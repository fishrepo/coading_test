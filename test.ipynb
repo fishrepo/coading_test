{
 "cells": [
  {
   "cell_type": "code",
   "execution_count": 5,
   "metadata": {},
   "outputs": [],
   "source": [
    "from collections import deque\n",
    "\n",
    "queue = deque([1])\n"
   ]
  },
  {
   "cell_type": "code",
   "execution_count": 6,
   "metadata": {},
   "outputs": [
    {
     "name": "stdout",
     "output_type": "stream",
     "text": [
      "deque([1])\n"
     ]
    }
   ],
   "source": [
    "print(queue)"
   ]
  },
  {
   "cell_type": "code",
   "execution_count": 7,
   "metadata": {},
   "outputs": [
    {
     "name": "stdout",
     "output_type": "stream",
     "text": [
      "2\n",
      "1\n",
      "2\n",
      "[2, 3]\n",
      "0\n",
      "1\n",
      "2\n"
     ]
    }
   ],
   "source": [
    "for i in range(2,1,-1):\n",
    "    print(i)\n",
    "    \n",
    "for i in range(1,3):\n",
    "    print(i)\n",
    "\n",
    "a = [1,2,3]\n",
    "\n",
    "print(a[1:3])\n",
    "\n",
    "for i in range(3):\n",
    "    print(i)"
   ]
  },
  {
   "cell_type": "code",
   "execution_count": 8,
   "metadata": {},
   "outputs": [
    {
     "name": "stdout",
     "output_type": "stream",
     "text": [
      "1\n"
     ]
    }
   ],
   "source": [
    "for i in range(1,0,-1):\n",
    "    print(i)"
   ]
  },
  {
   "cell_type": "code",
   "execution_count": 7,
   "metadata": {},
   "outputs": [
    {
     "name": "stdout",
     "output_type": "stream",
     "text": [
      "[(2, 3)]\n"
     ]
    }
   ],
   "source": [
    "graph = [[] for i in range(5)]\n",
    "graph[1].append((2,3))\n",
    "\n",
    "print(graph[1])"
   ]
  },
  {
   "cell_type": "code",
   "execution_count": 11,
   "metadata": {},
   "outputs": [
    {
     "name": "stdout",
     "output_type": "stream",
     "text": [
      "[[], [(2, 3)], [], [(2, 1), (2, 1), (2, 1)], []]\n",
      "[[], [(2, 3), (3, 4)], [], [(2, 1), (2, 1), (2, 1)], []]\n",
      "[[], [(2, 3), (3, 4), (5, 6)], [], [(2, 1), (2, 1), (2, 1)], []]\n"
     ]
    }
   ],
   "source": [
    "for _ in range(3):\n",
    "    a, b, c = map(int, input().split())\n",
    "    graph[a].append((b, c))\n",
    "    print(graph)"
   ]
  },
  {
   "cell_type": "code",
   "execution_count": 2,
   "metadata": {},
   "outputs": [
    {
     "name": "stdout",
     "output_type": "stream",
     "text": [
      "2\n"
     ]
    }
   ],
   "source": [
    "print(str(12345)[1])"
   ]
  },
  {
   "cell_type": "code",
   "execution_count": 11,
   "metadata": {},
   "outputs": [
    {
     "name": "stdout",
     "output_type": "stream",
     "text": [
      "5 번째 재귀 함수를 실행합니다.\n",
      "4 번째 재귀 함수를 실행합니다.\n",
      "3 번째 재귀 함수를 실행합니다.\n",
      "2 번째 재귀 함수를 실행합니다.\n",
      "1 번째 재귀 함수를 실행합니다.\n",
      "반복적으로 구현: 120\n"
     ]
    }
   ],
   "source": [
    "def factorial_recursive(n):\n",
    "    print(n,'번째 재귀 함수를 실행합니다.')\n",
    "    \n",
    "    if n <= 1:\n",
    "        return 1\n",
    "    \n",
    "    return n * factorial_recursive(n-1)\n",
    "\n",
    "print('반복적으로 구현:', factorial_recursive(5))"
   ]
  }
 ],
 "metadata": {
  "kernelspec": {
   "display_name": "Python 3",
   "language": "python",
   "name": "python3"
  },
  "language_info": {
   "codemirror_mode": {
    "name": "ipython",
    "version": 3
   },
   "file_extension": ".py",
   "mimetype": "text/x-python",
   "name": "python",
   "nbconvert_exporter": "python",
   "pygments_lexer": "ipython3",
   "version": "3.9.13"
  },
  "orig_nbformat": 4
 },
 "nbformat": 4,
 "nbformat_minor": 2
}
